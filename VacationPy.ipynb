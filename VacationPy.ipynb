{
 "cells": [
  {
   "cell_type": "markdown",
   "metadata": {},
   "source": [
    "# VacationPy\n",
    "----\n",
    "\n",
    "#### Note\n",
    "* Keep an eye on your API usage. Use https://developers.google.com/maps/reporting/gmp-reporting as reference for how to monitor your usage and billing.\n",
    "\n",
    "* Instructions have been included for each segment. You do not have to follow them exactly, but they are included to help you think through the steps."
   ]
  },
  {
   "cell_type": "code",
   "execution_count": 1,
   "metadata": {},
   "outputs": [],
   "source": [
    "\n",
    "# Dependencies and Setup\n",
    "import matplotlib.pyplot as plt\n",
    "import pandas as pd\n",
    "import numpy as np\n",
    "import requests\n",
    "import gmaps\n",
    "import os\n",
    "import json\n",
    "\n",
    "# Import API key\n",
    "from config import g_key"
   ]
  },
  {
   "source": [
    "### Store Part I results into DataFrame\n",
    "#Load the csv exported in Part I to a DataFrame\n",
    "cities=pd.read_csv('Output/cities.csv')\n",
    "cities.head() "
   ],
   "cell_type": "code",
   "metadata": {},
   "execution_count": 2,
   "outputs": [
    {
     "output_type": "execute_result",
     "data": {
      "text/plain": [
       "   Unnamed: 0      City      Lat       Lng  Max Temp  Humidity  Cloudiness  \\\n",
       "0           0   Paamiut  61.9940  -49.6678     21.74        80           0   \n",
       "1           1    Kalmar  56.6616   16.3616     24.01        93          75   \n",
       "2           2   Rikitea -23.1203 -134.9692     77.34        74         100   \n",
       "3           3  Cidreira -30.1811  -50.2056     72.91        67          77   \n",
       "4           4    Avarua -21.2078 -159.7750     77.00        94          75   \n",
       "\n",
       "   Wind Speed Country        Date  \n",
       "0        7.23      GL  1612620442  \n",
       "1       10.36      SE  1612620444  \n",
       "2       13.62      PF  1612620446  \n",
       "3       12.06      BR  1612620448  \n",
       "4        5.75      CK  1612620449  "
      ],
      "text/html": "<div>\n<style scoped>\n    .dataframe tbody tr th:only-of-type {\n        vertical-align: middle;\n    }\n\n    .dataframe tbody tr th {\n        vertical-align: top;\n    }\n\n    .dataframe thead th {\n        text-align: right;\n    }\n</style>\n<table border=\"1\" class=\"dataframe\">\n  <thead>\n    <tr style=\"text-align: right;\">\n      <th></th>\n      <th>Unnamed: 0</th>\n      <th>City</th>\n      <th>Lat</th>\n      <th>Lng</th>\n      <th>Max Temp</th>\n      <th>Humidity</th>\n      <th>Cloudiness</th>\n      <th>Wind Speed</th>\n      <th>Country</th>\n      <th>Date</th>\n    </tr>\n  </thead>\n  <tbody>\n    <tr>\n      <th>0</th>\n      <td>0</td>\n      <td>Paamiut</td>\n      <td>61.9940</td>\n      <td>-49.6678</td>\n      <td>21.74</td>\n      <td>80</td>\n      <td>0</td>\n      <td>7.23</td>\n      <td>GL</td>\n      <td>1612620442</td>\n    </tr>\n    <tr>\n      <th>1</th>\n      <td>1</td>\n      <td>Kalmar</td>\n      <td>56.6616</td>\n      <td>16.3616</td>\n      <td>24.01</td>\n      <td>93</td>\n      <td>75</td>\n      <td>10.36</td>\n      <td>SE</td>\n      <td>1612620444</td>\n    </tr>\n    <tr>\n      <th>2</th>\n      <td>2</td>\n      <td>Rikitea</td>\n      <td>-23.1203</td>\n      <td>-134.9692</td>\n      <td>77.34</td>\n      <td>74</td>\n      <td>100</td>\n      <td>13.62</td>\n      <td>PF</td>\n      <td>1612620446</td>\n    </tr>\n    <tr>\n      <th>3</th>\n      <td>3</td>\n      <td>Cidreira</td>\n      <td>-30.1811</td>\n      <td>-50.2056</td>\n      <td>72.91</td>\n      <td>67</td>\n      <td>77</td>\n      <td>12.06</td>\n      <td>BR</td>\n      <td>1612620448</td>\n    </tr>\n    <tr>\n      <th>4</th>\n      <td>4</td>\n      <td>Avarua</td>\n      <td>-21.2078</td>\n      <td>-159.7750</td>\n      <td>77.00</td>\n      <td>94</td>\n      <td>75</td>\n      <td>5.75</td>\n      <td>CK</td>\n      <td>1612620449</td>\n    </tr>\n  </tbody>\n</table>\n</div>"
     },
     "metadata": {},
     "execution_count": 2
    }
   ]
  },
  {
   "cell_type": "code",
   "execution_count": null,
   "metadata": {},
   "outputs": [],
   "source": [
    "\n"
   ]
  },
  {
   "cell_type": "markdown",
   "metadata": {},
   "source": [
    "### Humidity Heatmap\n",
    "* Configure gmaps.\n",
    "* Use the Lat and Lng as locations and Humidity as the weight.\n",
    "* Add Heatmap layer to map."
   ]
  },
  {
   "cell_type": "code",
   "execution_count": 25,
   "metadata": {},
   "outputs": [
    {
     "output_type": "display_data",
     "data": {
      "text/plain": "Figure(layout=FigureLayout(border='1px solid black', height='600px', margin='0 auto 0 auto', padding='1px', wi…",
      "application/vnd.jupyter.widget-view+json": {
       "version_major": 2,
       "version_minor": 0,
       "model_id": "9e81b962109e49f6b2b056960d715eab"
      }
     },
     "metadata": {}
    }
   ],
   "source": [
    "\n",
    "# Configure gmaps with API key.\n",
    "gmaps.configure(api_key=g_key)\n",
    "\n",
    "\n",
    "# Convert Humidity to float and store\n",
    "humidity = cities[\"Humidity\"].astype(float)\n",
    "\n",
    "# Store 'Latitude' and 'Longitude' into  locations. \n",
    "locations = cities[[\"Lat\", \"Lng\"]].astype(float)\n",
    "\n",
    "# # Create a humidity Heatmap layer\n",
    "figure_layout = {\n",
    "    'width': '900px',\n",
    "    'height': '600px',\n",
    "    'border': '1px solid black',\n",
    "    'padding': '1px',\n",
    "    'margin': '0 auto 0 auto'\n",
    "}\n",
    "fig = gmaps.figure(layout=figure_layout,zoom_level=2,center=(15,25))\n",
    "\n",
    "heat_layer = gmaps.heatmap_layer(locations, weights=humidity, \n",
    "                                 dissipating=False, max_intensity= max(cities[\"Humidity\"]),\n",
    "                                 point_radius = 2)\n",
    "\n",
    "fig.add_layer(heat_layer)\n",
    "\n",
    "fig"
   ]
  },
  {
   "cell_type": "code",
   "execution_count": 66,
   "metadata": {},
   "outputs": [
    {
     "output_type": "display_data",
     "data": {
      "text/plain": "<Figure size 432x288 with 0 Axes>"
     },
     "metadata": {}
    }
   ],
   "source": [
    "plt.savefig(\"Output/heatmap.png\")"
   ]
  },
  {
   "cell_type": "markdown",
   "metadata": {},
   "source": [
    "### Create new DataFrame fitting weather criteria\n",
    "* Narrow down the cities to fit weather conditions.\n",
    "* Drop any rows will null values."
   ]
  },
  {
   "cell_type": "code",
   "execution_count": 38,
   "metadata": {},
   "outputs": [
    {
     "output_type": "execute_result",
     "data": {
      "text/plain": [
       "     Unnamed: 0          City      Lat       Lng  Max Temp  Humidity  \\\n",
       "66           66  Kruisfontein -34.0033   24.7314     80.01        69   \n",
       "123         123  Bahía Blanca -38.7196  -62.2724     80.24        46   \n",
       "161         161      San Juan -31.5375  -68.5364     85.03        31   \n",
       "183         183     Paranaíba -19.6772  -51.1908     80.56        59   \n",
       "198         198     Abu Dhabi  24.4667   54.3667     84.20        53   \n",
       "288         288          Poum -20.2333  164.0167     80.08        68   \n",
       "357         357          Yara  20.2753  -76.9533     81.28        60   \n",
       "417         417        Yulara -25.2406  130.9889     80.60        28   \n",
       "\n",
       "     Cloudiness  Wind Speed Country        Date  \n",
       "66            0        5.99      ZA  1612620559  \n",
       "123           0        8.75      AR  1612620609  \n",
       "161           0        3.49      AR  1612620643  \n",
       "183           0        6.71      BR  1612620760  \n",
       "198           0        8.05      AE  1612620786  \n",
       "288           0        4.34      NC  1612620947  \n",
       "357           0        0.92      CU  1612621065  \n",
       "417           0        8.05      AU  1612621037  "
      ],
      "text/html": "<div>\n<style scoped>\n    .dataframe tbody tr th:only-of-type {\n        vertical-align: middle;\n    }\n\n    .dataframe tbody tr th {\n        vertical-align: top;\n    }\n\n    .dataframe thead th {\n        text-align: right;\n    }\n</style>\n<table border=\"1\" class=\"dataframe\">\n  <thead>\n    <tr style=\"text-align: right;\">\n      <th></th>\n      <th>Unnamed: 0</th>\n      <th>City</th>\n      <th>Lat</th>\n      <th>Lng</th>\n      <th>Max Temp</th>\n      <th>Humidity</th>\n      <th>Cloudiness</th>\n      <th>Wind Speed</th>\n      <th>Country</th>\n      <th>Date</th>\n    </tr>\n  </thead>\n  <tbody>\n    <tr>\n      <th>66</th>\n      <td>66</td>\n      <td>Kruisfontein</td>\n      <td>-34.0033</td>\n      <td>24.7314</td>\n      <td>80.01</td>\n      <td>69</td>\n      <td>0</td>\n      <td>5.99</td>\n      <td>ZA</td>\n      <td>1612620559</td>\n    </tr>\n    <tr>\n      <th>123</th>\n      <td>123</td>\n      <td>Bahía Blanca</td>\n      <td>-38.7196</td>\n      <td>-62.2724</td>\n      <td>80.24</td>\n      <td>46</td>\n      <td>0</td>\n      <td>8.75</td>\n      <td>AR</td>\n      <td>1612620609</td>\n    </tr>\n    <tr>\n      <th>161</th>\n      <td>161</td>\n      <td>San Juan</td>\n      <td>-31.5375</td>\n      <td>-68.5364</td>\n      <td>85.03</td>\n      <td>31</td>\n      <td>0</td>\n      <td>3.49</td>\n      <td>AR</td>\n      <td>1612620643</td>\n    </tr>\n    <tr>\n      <th>183</th>\n      <td>183</td>\n      <td>Paranaíba</td>\n      <td>-19.6772</td>\n      <td>-51.1908</td>\n      <td>80.56</td>\n      <td>59</td>\n      <td>0</td>\n      <td>6.71</td>\n      <td>BR</td>\n      <td>1612620760</td>\n    </tr>\n    <tr>\n      <th>198</th>\n      <td>198</td>\n      <td>Abu Dhabi</td>\n      <td>24.4667</td>\n      <td>54.3667</td>\n      <td>84.20</td>\n      <td>53</td>\n      <td>0</td>\n      <td>8.05</td>\n      <td>AE</td>\n      <td>1612620786</td>\n    </tr>\n    <tr>\n      <th>288</th>\n      <td>288</td>\n      <td>Poum</td>\n      <td>-20.2333</td>\n      <td>164.0167</td>\n      <td>80.08</td>\n      <td>68</td>\n      <td>0</td>\n      <td>4.34</td>\n      <td>NC</td>\n      <td>1612620947</td>\n    </tr>\n    <tr>\n      <th>357</th>\n      <td>357</td>\n      <td>Yara</td>\n      <td>20.2753</td>\n      <td>-76.9533</td>\n      <td>81.28</td>\n      <td>60</td>\n      <td>0</td>\n      <td>0.92</td>\n      <td>CU</td>\n      <td>1612621065</td>\n    </tr>\n    <tr>\n      <th>417</th>\n      <td>417</td>\n      <td>Yulara</td>\n      <td>-25.2406</td>\n      <td>130.9889</td>\n      <td>80.60</td>\n      <td>28</td>\n      <td>0</td>\n      <td>8.05</td>\n      <td>AU</td>\n      <td>1612621037</td>\n    </tr>\n  </tbody>\n</table>\n</div>"
     },
     "metadata": {},
     "execution_count": 38
    }
   ],
   "source": [
    "# Narrow down the DataFrame to find the ideal weather condition.\n",
    "\n",
    "\n",
    "# Filter temperature between 80-90 F.\n",
    "ideal_weather = cities.loc[(cities[\"Max Temp\"] < 90) & (cities[\"Max Temp\"] > 80)]\n",
    "\n",
    "# Filter Wind speed less than 8 mph.\n",
    "ideal_weather = ideal_weather.loc[ideal_weather[\"Wind Speed\"] < 10]\n",
    "\n",
    "# Filter cloudiness to Zero cloudiness.\n",
    "ideal_weather = ideal_weather.loc[ideal_weather[\"Cloudiness\"] == 0]\n",
    "\n",
    "# Drop any rows with null values\n",
    "ideal_weather = ideal_weather.dropna()\n",
    "\n",
    "ideal_weather"
   ]
  },
  {
   "cell_type": "markdown",
   "metadata": {},
   "source": [
    "### Hotel Map\n",
    "* Store into variable named `hotel_df`.\n",
    "* Add a \"Hotel Name\" column to the DataFrame.\n",
    "* Set parameters to search for hotels with 5000 meters.\n",
    "* Hit the Google Places API for each city's coordinates.\n",
    "* Store the first Hotel result into the DataFrame.\n",
    "* Plot markers on top of the heatmap."
   ]
  },
  {
   "cell_type": "code",
   "execution_count": 51,
   "metadata": {},
   "outputs": [
    {
     "output_type": "execute_result",
     "data": {
      "text/plain": [
       "     Unnamed: 0          City      Lat       Lng  Max Temp  Humidity  \\\n",
       "66           66  Kruisfontein -34.0033   24.7314     80.01        69   \n",
       "123         123  Bahía Blanca -38.7196  -62.2724     80.24        46   \n",
       "161         161      San Juan -31.5375  -68.5364     85.03        31   \n",
       "183         183     Paranaíba -19.6772  -51.1908     80.56        59   \n",
       "198         198     Abu Dhabi  24.4667   54.3667     84.20        53   \n",
       "288         288          Poum -20.2333  164.0167     80.08        68   \n",
       "357         357          Yara  20.2753  -76.9533     81.28        60   \n",
       "417         417        Yulara -25.2406  130.9889     80.60        28   \n",
       "\n",
       "     Cloudiness  Wind Speed Country        Date  \\\n",
       "66            0        5.99      ZA  1612620559   \n",
       "123           0        8.75      AR  1612620609   \n",
       "161           0        3.49      AR  1612620643   \n",
       "183           0        6.71      BR  1612620760   \n",
       "198           0        8.05      AE  1612620786   \n",
       "288           0        4.34      NC  1612620947   \n",
       "357           0        0.92      CU  1612621065   \n",
       "417           0        8.05      AU  1612621037   \n",
       "\n",
       "                                Nearest Hotel  \\\n",
       "66                    Oyster Bay House Rental   \n",
       "123                               Hotel Argos   \n",
       "161                          Hotel Provincial   \n",
       "183                 Villa Rica Park Hotel GMR   \n",
       "198                              Beach Rotana   \n",
       "288                               Gîte kajeon   \n",
       "357          Casa de Margarita Puebla Lorente   \n",
       "417  Desert Gardens Hotel - Ayers Rock Resort   \n",
       "\n",
       "                                   Hotel Name  \n",
       "66                    Oyster Bay House Rental  \n",
       "123                               Hotel Argos  \n",
       "161                          Hotel Provincial  \n",
       "183                 Villa Rica Park Hotel GMR  \n",
       "198                              Beach Rotana  \n",
       "288                               Gîte kajeon  \n",
       "357          Casa de Margarita Puebla Lorente  \n",
       "417  Desert Gardens Hotel - Ayers Rock Resort  "
      ],
      "text/html": "<div>\n<style scoped>\n    .dataframe tbody tr th:only-of-type {\n        vertical-align: middle;\n    }\n\n    .dataframe tbody tr th {\n        vertical-align: top;\n    }\n\n    .dataframe thead th {\n        text-align: right;\n    }\n</style>\n<table border=\"1\" class=\"dataframe\">\n  <thead>\n    <tr style=\"text-align: right;\">\n      <th></th>\n      <th>Unnamed: 0</th>\n      <th>City</th>\n      <th>Lat</th>\n      <th>Lng</th>\n      <th>Max Temp</th>\n      <th>Humidity</th>\n      <th>Cloudiness</th>\n      <th>Wind Speed</th>\n      <th>Country</th>\n      <th>Date</th>\n      <th>Nearest Hotel</th>\n      <th>Hotel Name</th>\n    </tr>\n  </thead>\n  <tbody>\n    <tr>\n      <th>66</th>\n      <td>66</td>\n      <td>Kruisfontein</td>\n      <td>-34.0033</td>\n      <td>24.7314</td>\n      <td>80.01</td>\n      <td>69</td>\n      <td>0</td>\n      <td>5.99</td>\n      <td>ZA</td>\n      <td>1612620559</td>\n      <td>Oyster Bay House Rental</td>\n      <td>Oyster Bay House Rental</td>\n    </tr>\n    <tr>\n      <th>123</th>\n      <td>123</td>\n      <td>Bahía Blanca</td>\n      <td>-38.7196</td>\n      <td>-62.2724</td>\n      <td>80.24</td>\n      <td>46</td>\n      <td>0</td>\n      <td>8.75</td>\n      <td>AR</td>\n      <td>1612620609</td>\n      <td>Hotel Argos</td>\n      <td>Hotel Argos</td>\n    </tr>\n    <tr>\n      <th>161</th>\n      <td>161</td>\n      <td>San Juan</td>\n      <td>-31.5375</td>\n      <td>-68.5364</td>\n      <td>85.03</td>\n      <td>31</td>\n      <td>0</td>\n      <td>3.49</td>\n      <td>AR</td>\n      <td>1612620643</td>\n      <td>Hotel Provincial</td>\n      <td>Hotel Provincial</td>\n    </tr>\n    <tr>\n      <th>183</th>\n      <td>183</td>\n      <td>Paranaíba</td>\n      <td>-19.6772</td>\n      <td>-51.1908</td>\n      <td>80.56</td>\n      <td>59</td>\n      <td>0</td>\n      <td>6.71</td>\n      <td>BR</td>\n      <td>1612620760</td>\n      <td>Villa Rica Park Hotel GMR</td>\n      <td>Villa Rica Park Hotel GMR</td>\n    </tr>\n    <tr>\n      <th>198</th>\n      <td>198</td>\n      <td>Abu Dhabi</td>\n      <td>24.4667</td>\n      <td>54.3667</td>\n      <td>84.20</td>\n      <td>53</td>\n      <td>0</td>\n      <td>8.05</td>\n      <td>AE</td>\n      <td>1612620786</td>\n      <td>Beach Rotana</td>\n      <td>Beach Rotana</td>\n    </tr>\n    <tr>\n      <th>288</th>\n      <td>288</td>\n      <td>Poum</td>\n      <td>-20.2333</td>\n      <td>164.0167</td>\n      <td>80.08</td>\n      <td>68</td>\n      <td>0</td>\n      <td>4.34</td>\n      <td>NC</td>\n      <td>1612620947</td>\n      <td>Gîte kajeon</td>\n      <td>Gîte kajeon</td>\n    </tr>\n    <tr>\n      <th>357</th>\n      <td>357</td>\n      <td>Yara</td>\n      <td>20.2753</td>\n      <td>-76.9533</td>\n      <td>81.28</td>\n      <td>60</td>\n      <td>0</td>\n      <td>0.92</td>\n      <td>CU</td>\n      <td>1612621065</td>\n      <td>Casa de Margarita Puebla Lorente</td>\n      <td>Casa de Margarita Puebla Lorente</td>\n    </tr>\n    <tr>\n      <th>417</th>\n      <td>417</td>\n      <td>Yulara</td>\n      <td>-25.2406</td>\n      <td>130.9889</td>\n      <td>80.60</td>\n      <td>28</td>\n      <td>0</td>\n      <td>8.05</td>\n      <td>AU</td>\n      <td>1612621037</td>\n      <td>Desert Gardens Hotel - Ayers Rock Resort</td>\n      <td>Desert Gardens Hotel - Ayers Rock Resort</td>\n    </tr>\n  </tbody>\n</table>\n</div>"
     },
     "metadata": {},
     "execution_count": 51
    }
   ],
   "source": [
    "# Store previous dataframe as hotel_df\n",
    "hotel_df=ideal_weather\n",
    "\n",
    "# Create a list to hold hotel result\n",
    "hotels = []\n",
    "\n",
    "# Loop through narrowed down dataframe to get nearest hotel\n",
    "for index, row in hotel_df.iterrows():\n",
    "    # get lat, lng from df\n",
    "    lat = row[\"Lat\"]\n",
    "    lng = row[\"Lng\"]\n",
    "\n",
    "    city_location = f\"{lat},{lng}\"\n",
    "\n",
    "    params = {\n",
    "        \"location\": city_location, \n",
    "        \"types\": \"lodging\",\n",
    "        \"radius\": 5000,\n",
    "        \"key\": g_key\n",
    "    }\n",
    "\n",
    "    base_url = \"https://maps.googleapis.com/maps/api/place/nearbysearch/json\"   \n",
    "\n",
    "    hotel_request = requests.get(base_url, params=params)\n",
    "    hotel_response = hotel_request.json()\n",
    "\n",
    "    try:\n",
    "        hotels.append(hotel_response[\"results\"][0][\"name\"])\n",
    "    except:\n",
    "        hotels.append(\"Nearest hotel not found\")\n",
    "\n",
    "# Dataframe with nearest hotel\n",
    "hotel_df[\"Hotel Name\"] = hotels\n",
    "hotel_df"
   ]
  },
  {
   "cell_type": "code",
   "execution_count": null,
   "metadata": {},
   "outputs": [],
   "source": []
  },
  {
   "cell_type": "code",
   "execution_count": 61,
   "metadata": {},
   "outputs": [],
   "source": [
    "# NOTE: Do not change any of the code in this cell\n",
    "\n",
    "# Using the template add the hotel marks to the heatmap\n",
    "info_box_template = \"\"\"\n",
    "<dl>\n",
    "<dt>Name</dt><dd>{Hotel Name}</dd>\n",
    "<dt>City</dt><dd>{City}</dd>\n",
    "<dt>Country</dt><dd>{Country}</dd>\n",
    "</dl>\n",
    "\"\"\"\n",
    "# Store the DataFrame Row\n",
    "# NOTE: be sure to update with your DataFrame name\n",
    "hotel_info = [info_box_template.format(**row) for index, row in hotel_df.iterrows()]\n",
    "locations = hotel_df[[\"Lat\", \"Lng\"]]"
   ]
  },
  {
   "cell_type": "code",
   "execution_count": 62,
   "metadata": {},
   "outputs": [
    {
     "output_type": "display_data",
     "data": {
      "text/plain": "Figure(layout=FigureLayout(border='1px solid black', height='600px', margin='0 auto 0 auto', padding='1px', wi…",
      "application/vnd.jupyter.widget-view+json": {
       "version_major": 2,
       "version_minor": 0,
       "model_id": "ca5852c071e1443789c71444dca2e74b"
      }
     },
     "metadata": {}
    }
   ],
   "source": [
    "# Add marker layer ontop of heat map\n",
    "\n",
    "figure_layout = {\n",
    "    'width': '900px',\n",
    "    'height': '600px',\n",
    "    'border': '1px solid black',\n",
    "    'padding': '1px',\n",
    "    'margin': '0 auto 0 auto'\n",
    "}\n",
    "fig = gmaps.figure(layout=figure_layout,zoom_level=2,center=(15,25))\n",
    "\n",
    "# Create hotel symbol layer\n",
    "hotel_layer = gmaps.marker_layer(\n",
    "    locations,info_box_content=hotel_info\n",
    ")\n",
    "\n",
    "\n",
    "# Add layer\n",
    "fig.add_layer(heat_layer)\n",
    "fig.add_layer(hotel_layer)\n",
    "# Display figure\n",
    "fig"
   ]
  },
  {
   "cell_type": "code",
   "execution_count": 65,
   "metadata": {},
   "outputs": [
    {
     "output_type": "display_data",
     "data": {
      "text/plain": "<Figure size 432x288 with 0 Axes>"
     },
     "metadata": {}
    }
   ],
   "source": [
    "plt.savefig(\"Output/hotel_info.png\")"
   ]
  },
  {
   "cell_type": "code",
   "execution_count": null,
   "metadata": {},
   "outputs": [],
   "source": []
  }
 ],
 "metadata": {
  "kernelspec": {
   "name": "python3",
   "display_name": "Python 3",
   "language": "python"
  },
  "language_info": {
   "codemirror_mode": {
    "name": "ipython",
    "version": 3
   },
   "file_extension": ".py",
   "mimetype": "text/x-python",
   "name": "python",
   "nbconvert_exporter": "python",
   "pygments_lexer": "ipython3",
   "version": "3.8.5-final"
  },
  "latex_envs": {
   "LaTeX_envs_menu_present": true,
   "autoclose": false,
   "autocomplete": true,
   "bibliofile": "biblio.bib",
   "cite_by": "apalike",
   "current_citInitial": 1,
   "eqLabelWithNumbers": true,
   "eqNumInitial": 1,
   "hotkeys": {
    "equation": "Ctrl-E",
    "itemize": "Ctrl-I"
   },
   "labels_anchors": false,
   "latex_user_defs": false,
   "report_style_numbering": false,
   "user_envs_cfg": false
  }
 },
 "nbformat": 4,
 "nbformat_minor": 4
}